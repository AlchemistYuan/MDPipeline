{
 "cells": [
  {
   "cell_type": "markdown",
   "metadata": {},
   "source": [
    "## The molecular dynamics and free energy calculation workflow\n",
    "This jupyter notebook reads in an OpenMM-ready system prepared by `build.py`, runs an MD simulation (minimization, equilibration, and production runs), and then estimates the absolute ligand binding free energy using `MMPBSA.py`, which is distributed with `AmberTools`."
   ]
  },
  {
   "cell_type": "code",
   "execution_count": 1,
   "metadata": {
    "colab": {
     "base_uri": "https://localhost:8080/"
    },
    "id": "RX4Bg4-sF67a",
    "outputId": "cf2d09c0-fe22-4cfd-f4cf-23c03c47c023"
   },
   "outputs": [],
   "source": [
    "import time\n",
    "import os\n",
    "from string import Template\n",
    "from typing import Tuple\n",
    "import numpy as np\n",
    "import pandas as pd\n",
    "import MDAnalysis as mda\n",
    "from openmm import *\n",
    "from openmm.app import PDBFile, Topology, Simulation, DCDReporter, StateDataReporter, CheckpointReporter\n",
    "import parmed as pmd"
   ]
  },
  {
   "cell_type": "code",
   "execution_count": 15,
   "metadata": {
    "id": "Ifz34chPDRpz"
   },
   "outputs": [],
   "source": [
    "# In OpenMM, the trajectory is save as dcd format, while the Amber netcdf file is preferred in MMPBSA calculation.\n",
    "# Therefore, we need to generate a netcdf trajectory file before proceeding to the MMPBSA calculation\n",
    "cpptraj_nc_template = Template('''cpptraj -p ${outdir}/${complextop} << EOF\n",
    "trajin ${outdir}/${dcd}\n",
    "trajout ${outdir}/complex.nc netcdf\n",
    "EOF\n",
    "''')\n",
    "\n",
    "\n",
    "def load_system(xml_path: str, pdb_path: str) -> Tuple[System, Topology, unit.Quantity]:\n",
    "    \"\"\"\n",
    "    Load an OpenMM System from serialized XML and return (system, topology, positions).\n",
    "\n",
    "    Parameters\n",
    "    ----------\n",
    "    xml_path : str\n",
    "        Path to the system XML file\n",
    "    pdb_path : str\n",
    "        Path to the solvated PDB structure\n",
    "\n",
    "    Returns\n",
    "    -------\n",
    "    system, topology, positions\n",
    "    \"\"\"\n",
    "    # Deserialize system\n",
    "    with open(xml_path, 'r') as f:\n",
    "        system = XmlSerializer.deserialize(f.read())\n",
    "    # Load topology and positions\n",
    "    pdb = PDBFile(pdb_path)\n",
    "    return system, pdb.topology, pdb.positions\n",
    "\n",
    "\n",
    "def setup_simulation(system: System, topology: Topology, positions: unit.Quantity,\n",
    "                     temperature: float = 300.0,\n",
    "                     friction_coef: float = 1.0,\n",
    "                     timestep_fs: float = 2.0,\n",
    "                     pressure_bar: float = None,\n",
    "                     platform_name: str = 'CPU',\n",
    "                     checkpoint_file: str = None) -> Simulation:\n",
    "    \"\"\"\n",
    "    Create and return an OpenMM Simulation object with Langevin integrator\n",
    "    and optional barostat for NPT runs.\n",
    "\n",
    "    Parameters\n",
    "    ----------\n",
    "    system : System\n",
    "        The OpenMM System object\n",
    "    topology : app.Topology\n",
    "        The OpenMM toplogy object for the system\n",
    "    positions : unit.Quantity\n",
    "        The positions of all atoms in the topology. It is a list of Vec3\n",
    "    temperature : float\n",
    "        The simulation temperature in Kelvin\n",
    "    friction_coef : float\n",
    "        The collision rate in 1/ps. Used in Langevin integrator\n",
    "    timestep_fs : float\n",
    "        The integration timestep in femtoseconds\n",
    "    pressure_bar : float\n",
    "        If provided, adds a MonteCarloBarostat at this pressure (bar)\n",
    "    platform_name : str\n",
    "        OpenMM platform (e.g., 'CUDA', 'OpenCL', 'CPU'). The default is CPU.\n",
    "\n",
    "    Returns\n",
    "    -------\n",
    "    simulation : Simulation\n",
    "        The OpenMM Simulation object\n",
    "    \"\"\"\n",
    "    # Add barostat (i.e. NPT simulation) if needed\n",
    "    if pressure_bar is not None:\n",
    "        system.addForce(MonteCarloBarostat(pressure_bar*unit.bar, temperature*unit.kelvin))\n",
    "\n",
    "    # Create integrator\n",
    "    integrator = LangevinIntegrator(\n",
    "        temperature*unit.kelvin,\n",
    "        friction_coef/unit.picosecond,\n",
    "        timestep_fs*unit.femtosecond\n",
    "    )\n",
    "\n",
    "    # Select platform\n",
    "    platform = Platform.getPlatformByName(platform_name)\n",
    "\n",
    "    simulation = Simulation(topology, system, integrator, platform)\n",
    "    simulation.context.setPositions(positions)\n",
    "\n",
    "    # It is a restart instead of a fresh simulation if a checkpoint file exists\n",
    "    if checkpoint_file is not None:\n",
    "        # Load checkpoint\n",
    "        with open(checkpoint_file, 'rb') as f:\n",
    "            simulation.context.loadCheckpoint(f.read())\n",
    "    return simulation\n",
    "\n",
    "\n",
    "def add_reporters(simulation: Simulation,\n",
    "                  traj_file: str = 'trajectory.dcd',\n",
    "                  state_file: str = 'log.csv',\n",
    "                  checkpoint_file: str = 'checkpoint.chk',\n",
    "                  steps: int = 50000,\n",
    "                  report_interval: int = 1000,\n",
    "                  checkpoint_interval: int = 10000):\n",
    "    \"\"\"\n",
    "    Attach DCD, state data, and checkpoint reporters.\n",
    "\n",
    "    Parameters\n",
    "    ----------\n",
    "    simulation : Simulation\n",
    "        The OpenMM Simulation object\n",
    "    traj_file : str\n",
    "        The trajectory file\n",
    "    state_file : str\n",
    "        The log file\n",
    "    checkpoint_file: str\n",
    "        The checkpoint file\n",
    "    steps: int\n",
    "        The simulation steps\n",
    "    report_interval : int\n",
    "        The step interval to save trajectory and write log file\n",
    "    checkpoint_interval : int\n",
    "        The step interval to write the checkpoint file\n",
    "\n",
    "    Returns\n",
    "    -------\n",
    "    None\n",
    "    \"\"\"\n",
    "    simulation.reporters.append(DCDReporter(traj_file, report_interval))\n",
    "    simulation.reporters.append(\n",
    "        StateDataReporter(\n",
    "            state_file, report_interval,\n",
    "            step=True, time=True,\n",
    "            potentialEnergy=True, temperature=True,\n",
    "            density=True, speed=True, remainingTime=True,\n",
    "            totalSteps=steps, separator='\\t'\n",
    "        )\n",
    "    )\n",
    "    simulation.reporters.append(\n",
    "        CheckpointReporter(checkpoint_file, checkpoint_interval)\n",
    "    )\n",
    "\n",
    "\n",
    "def add_restraints(system: System, positions: unit.Quantity,\n",
    "                   atom_ids: list = [],\n",
    "                   force_constant: float = 1000.0) -> Tuple[System, int]:\n",
    "    \"\"\"\n",
    "    Apply harmonic positional restraints to heavy atoms of RNA and ligands.\n",
    "    Returns the force index added to the system.\n",
    "\n",
    "    Parameters\n",
    "    ----------\n",
    "    system : System\n",
    "        The OpenMM System object\n",
    "    positions : unit.Quantity\n",
    "        The positions of all atoms in the topology. It is a list of Vec3\n",
    "    atom_ids : list\n",
    "        A list of the atom IDs to be restrained\n",
    "    force_constant : float\n",
    "        The force constant of the harmonic restraint in kcal/(mol nm^2)\n",
    "\n",
    "    Returns\n",
    "    -------\n",
    "    system : System\n",
    "        The updated OpenMM System object\n",
    "    force_index : int \n",
    "        The Index of the harmonic restraint force\n",
    "    \"\"\"\n",
    "    restraint = CustomExternalForce(\n",
    "        \"0.5*k*((x-x0)^2 + (y-y0)^2 + (z-z0)^2)\"\n",
    "    )\n",
    "    restraint.addGlobalParameter('k', force_constant * unit.kilojoule_per_mole / unit.nanometer**2)\n",
    "    restraint.addPerParticleParameter('x0')\n",
    "    restraint.addPerParticleParameter('y0')\n",
    "    restraint.addPerParticleParameter('z0')\n",
    "\n",
    "    coords = np.array([[p.x, p.y, p.z] for p in positions])  # in nm\n",
    "    for idx in atom_ids:\n",
    "        x0, y0, z0 = coords[idx]\n",
    "        restraint.addParticle(idx, [x0, y0, z0])\n",
    "    force_index = system.addForce(restraint)\n",
    "    return system, force_index\n",
    "    \n",
    "\n",
    "def run_equilibration(simulation: Simulation,\n",
    "                      force_index: int,\n",
    "                      temperature: float = 300.0,\n",
    "                      equil_steps: int = 100000):\n",
    "    \"\"\"\n",
    "    Run two equilibration stages:\n",
    "    1) with positional restraints on RNA & ligand heavy atoms\n",
    "    2) without restraints\n",
    "\n",
    "    Parameters\n",
    "    ----------\n",
    "    simulation : Simulation\n",
    "        The OpenMM Simulation object\n",
    "    force_index : int \n",
    "        The Index of the harmonic restraint force\n",
    "    temperature : float\n",
    "        The simulation temperature in Kelvin\n",
    "    equil_steps : int\n",
    "        The equilibration steps\n",
    "\n",
    "    Returns\n",
    "    -------\n",
    "    None\n",
    "    \"\"\"\n",
    "    time_start = time.perf_counter()\n",
    "    # Stage 1: restrained\n",
    "    print('Initial system energy', simulation.context.getState(getEnergy=True).getPotentialEnergy())\n",
    "    print('Minimizing...')\n",
    "    simulation.minimizeEnergy()\n",
    "    print('Minimized system energy', simulation.context.getState(getEnergy=True).getPotentialEnergy())\n",
    "    print(f\"The first equilibration step: {equil_steps} steps with restraints\")\n",
    "    # Initialize velocities\n",
    "    simulation.context.setVelocitiesToTemperature(temperature*unit.kelvin)\n",
    "    simulation.context.setStepCount(0)\n",
    "    simulation.step(equil_steps)\n",
    "\n",
    "    # Stage 2: unrestrained\n",
    "    # Remove restraint force\n",
    "    simulation.system.removeForce(force_index)\n",
    "    simulation.context.reinitialize(preserveState=True)\n",
    "    simulation.context.setPositions(simulation.context.getState(getPositions=True).getPositions())\n",
    "    \n",
    "    print(f\"The second equilibration step: {equil_steps} steps without restraints\")\n",
    "    simulation.context.setStepCount(0)\n",
    "    simulation.step(equil_steps)\n",
    "    time_end = time.perf_counter()\n",
    "    print(f\"Total equilibration time: {(time_end - time_start)/60:.1f} minutes\")\n",
    "\n",
    "\n",
    "def run_production(simulation: Simulation, production_steps: int):\n",
    "    \"\"\"\n",
    "    Run production MD for a given number of steps.\n",
    "\n",
    "    Parameters\n",
    "    ----------\n",
    "    simulation : Simulation\n",
    "        The OpenMM Simulation object\n",
    "    production_steps : int\n",
    "        The production steps\n",
    "    \n",
    "    Returns\n",
    "    -------\n",
    "    None\n",
    "    \"\"\"\n",
    "    time_start = time.perf_counter()\n",
    "    print(f\"Running production: {production_steps} steps\")\n",
    "    simulation.context.setStepCount(0)\n",
    "    simulation.step(production_steps)\n",
    "    time_end = time.perf_counter()\n",
    "    print(f\"Total production time: {(time_end - time_start)/60:.1f} minutes\")\n"
   ]
  },
  {
   "cell_type": "markdown",
   "metadata": {},
   "source": [
    "# 1. Minimization and equilibration runs"
   ]
  },
  {
   "cell_type": "code",
   "execution_count": 9,
   "metadata": {
    "id": "ByK2n1UdDUVB"
   },
   "outputs": [],
   "source": [
    "# Load the system assembled by `build.py`\n",
    "system, topo, pos = load_system('output/1O15_system.xml', 'output/1O15_solvated.pdb')"
   ]
  },
  {
   "cell_type": "code",
   "execution_count": 10,
   "metadata": {
    "id": "ky3BxpHDJbPK"
   },
   "outputs": [],
   "source": [
    "# Add harmonic restraint to heavy atoms of RNA and ligand\n",
    "u = mda.Universe('output/1O15_solvated.pdb')\n",
    "heavy_atoms = u.select_atoms('(nucleic or resname TEP) and not name H*')\n",
    "atom_ids = heavy_atoms.ids-1\n",
    "system, restrain_idx = add_restraints(system, pos, atom_ids, 100)"
   ]
  },
  {
   "cell_type": "code",
   "execution_count": 11,
   "metadata": {
    "id": "OoqTj71tDaIg"
   },
   "outputs": [],
   "source": [
    "# Set up and simulation\n",
    "sim = setup_simulation(system, topo, pos,\n",
    "                       temperature=300, friction_coef=1.0,\n",
    "                       timestep_fs=1.0, pressure_bar=1.0)\n",
    "\n",
    "add_reporters(sim, steps=10000, traj_file='output/equil.dcd', state_file='output/equil.log', checkpoint_file='output/equil.chk',\n",
    "              report_interval=1000, checkpoint_interval=10000)"
   ]
  },
  {
   "cell_type": "code",
   "execution_count": 14,
   "metadata": {
    "colab": {
     "base_uri": "https://localhost:8080/"
    },
    "id": "CaHdvFmYKxJk",
    "outputId": "bdaa37be-db8f-4838-8177-1ed110b36269"
   },
   "outputs": [
    {
     "name": "stdout",
     "output_type": "stream",
     "text": [
      "Initial system energy -405413.66638635204 kJ/mol\n",
      "Minimizing...\n",
      "Minimized system energy -459218.4279758284 kJ/mol\n",
      "The first equilibration step: 10000 steps with restraints\n",
      "The second equilibration step: 10000 steps without restraints\n",
      "Total equilibration time: 4.5 minutes\n"
     ]
    }
   ],
   "source": [
    "# Two-stage equilibration: 50k steps restrained, 50k unrestrained\n",
    "run_equilibration(sim, restrain_idx, equil_steps=10000)"
   ]
  },
  {
   "cell_type": "markdown",
   "metadata": {
    "id": "AShIsT4ILReb"
   },
   "source": [
    "# 2. Production run"
   ]
  },
  {
   "cell_type": "code",
   "execution_count": 16,
   "metadata": {},
   "outputs": [],
   "source": [
    "# Load the system assembled by `build.py`\n",
    "system, topo, pos = load_system('output/1O15_system.xml', 'output/1O15_solvated.pdb')\n",
    "# Set up and simulation\n",
    "sim = setup_simulation(system, topo, pos,\n",
    "                       temperature=300, friction_coef=1.0,\n",
    "                       timestep_fs=2.0, pressure_bar=1.0,\n",
    "                       checkpoint_file='output/equil.chk')\n",
    "add_reporters(sim, steps=500000, traj_file='output/prod.dcd', state_file='output/prod.log', checkpoint_file='output/prod.chk',\n",
    "              report_interval=1000, checkpoint_interval=10000)"
   ]
  },
  {
   "cell_type": "code",
   "execution_count": 17,
   "metadata": {},
   "outputs": [
    {
     "name": "stdout",
     "output_type": "stream",
     "text": [
      "Running production: 500000 steps\n",
      "Total production time: 170.4 minutes\n"
     ]
    }
   ],
   "source": [
    "# Carry out production run\n",
    "run_production(sim, production_steps=500000)"
   ]
  },
  {
   "cell_type": "markdown",
   "metadata": {},
   "source": [
    "# 3. Binding free energy calculation using MMPBSA"
   ]
  },
  {
   "cell_type": "code",
   "execution_count": 19,
   "metadata": {},
   "outputs": [
    {
     "name": "stdout",
     "output_type": "stream",
     "text": [
      "\n",
      "CPPTRAJ: Trajectory Analysis. V6.24.0 (AmberTools)\n",
      "    ___  ___  ___  ___\n",
      "     | \\/ | \\/ | \\/ | \n",
      "    _|_/\\_|_/\\_|_/\\_|_\n",
      "\n",
      "| Date/time: 07/11/25 10:11:46\n",
      "| Available memory: 119.263 GB\n",
      "\n",
      "\tReading 'output/1O15_solvated.prmtop' as Amber Topology\n",
      "\tRadius Set: 0\n",
      "INPUT: Reading input from 'STDIN'\n",
      "  [trajin output/prod.dcd]\n",
      "\tReading 'output/prod.dcd' as Charmm DCD\n",
      "\tSymmetric shape matrix detected.\n",
      "  [trajout output/complex.nc netcdf]\n",
      "\tWriting 'output/complex.nc' as Amber NetCDF\n",
      "---------- RUN BEGIN -------------------------------------------------\n",
      "\n",
      "PARAMETER FILES (1 total):\n",
      " 0: 1O15_solvated.prmtop, 24020 atoms, 7728 res, box: Cubic, 7696 mol, 7620 solvent\n",
      "\n",
      "INPUT TRAJECTORIES (1 total):\n",
      " 0: 'prod.dcd' is a CHARMM DCD file (coords) Little Endian 32 bit, Parm 1O15_solvated.prmtop (Cubic box) (reading 500 of 500)\n",
      "  Coordinate processing will occur on 500 frames.\n",
      "\n",
      "OUTPUT TRAJECTORIES (1 total):\n",
      "  'complex.nc' (500 frames) is a NetCDF (NetCDF3) AMBER trajectory\n",
      "\n",
      "BEGIN TRAJECTORY PROCESSING:\n",
      "Warning: Setting NetCDF variable compression requires compiling with HDF5 support.\n",
      "Warning: Setting NetCDF variable compression requires compiling with HDF5 support.\n",
      "Warning: Setting NetCDF frame chunk size requires compiling with HDF5 support.\n",
      "Warning: Setting NetCDF variable compression requires compiling with HDF5 support.\n",
      "Warning: Setting NetCDF frame chunk size requires compiling with HDF5 support.\n",
      "Warning: Setting NetCDF variable compression requires compiling with HDF5 support.\n",
      "Warning: Setting NetCDF frame chunk size requires compiling with HDF5 support.\n",
      ".....................................................\n",
      "ACTIVE OUTPUT TRAJECTORIES (1):\n",
      "  output/complex.nc (coordinates, time, box)\n",
      "----- prod.dcd (1-500, 1) -----\n",
      " 0% 10% 20% 30% 40% 50% 60% 70% 80% 90% 100% Complete.\n",
      "\n",
      "Read 500 frames and processed 500 frames.\n",
      "TIME: Avg. throughput= 1095.5350 frames / second.\n",
      "\n",
      "ACTION OUTPUT:\n",
      "TIME: Analyses took 0.0000 seconds.\n",
      "\n",
      "RUN TIMING:\n",
      "TIME:\t\tInit               : 0.0000 s (  0.01%)\n",
      "TIME:\t\tTrajectory Process : 0.4564 s ( 99.92%)\n",
      "TIME:\t\tAction Post        : 0.0000 s (  0.00%)\n",
      "TIME:\t\tAnalysis           : 0.0000 s (  0.00%)\n",
      "TIME:\t\tData File Write    : 0.0000 s (  0.00%)\n",
      "TIME:\t\tOther              : 0.0003 s (  0.00%)\n",
      "TIME:\tRun Total 0.4568 s\n",
      "---------- RUN END ---------------------------------------------------\n",
      "TIME: Total execution time: 0.4929 seconds.\n",
      "--------------------------------------------------------------------------------\n",
      "To cite CPPTRAJ use:\n",
      "Daniel R. Roe and Thomas E. Cheatham, III, \"PTRAJ and CPPTRAJ: Software for\n",
      "  Processing and Analysis of Molecular Dynamics Trajectory Data\". J. Chem.\n",
      "  Theory Comput., 2013, 9 (7), pp 3084-3095.\n",
      "\n"
     ]
    },
    {
     "data": {
      "text/plain": [
       "0"
      ]
     },
     "execution_count": 19,
     "metadata": {},
     "output_type": "execute_result"
    }
   ],
   "source": [
    "# Convert the dcd file to netcdf file\n",
    "cpptraj_nc = cpptraj_nc_template.substitute(outdir='output', complextop='1O15_solvated.prmtop',\n",
    "                                            dcd='prod.dcd')\n",
    "os.system(cpptraj_nc)"
   ]
  },
  {
   "cell_type": "code",
   "execution_count": 21,
   "metadata": {},
   "outputs": [],
   "source": [
    "# Write the MMPBSA input file\n",
    "# note: 1. save the intermediate trajectories as netcdf files (netcdf=1) to save storage space\n",
    "#       2. explicitly specify the atoms to be stripped and the ligand resname\n",
    "#       3. calculate binding free energy every 5 frames to both save time and reduce auto-correlation\n",
    "with open('output/mmpbsa.in', 'w') as w:\n",
    "    w.write(f'''&general\n",
    "  startframe=1, endframe=500, interval=5,\n",
    "  verbose=1,\n",
    "  netcdf=1,\n",
    "  strip_mask=\":HOH:NA:CL\",\n",
    "  ligand_mask=\":TEP\"\n",
    "/\n",
    "&gb\n",
    "  igb=5, saltcon=0.150\n",
    "/\n",
    "&pb\n",
    "  istrng=0.150,\n",
    "/\n",
    "&decomp\n",
    "  idecomp=1,\n",
    "/''')"
   ]
  },
  {
   "cell_type": "code",
   "execution_count": 35,
   "metadata": {},
   "outputs": [],
   "source": [
    "# Run MMPBSA calculation\n",
    "os.system(f'''cd output\n",
    "MMPBSA.py -O \\\n",
    "  -i mmpbsa.in \\\n",
    "  -sp 1O15_solvated.prmtop \\\n",
    "  -cp complex_strip.prmtop \\\n",
    "  -rp receptor.prmtop \\\n",
    "  -lp ligand.prmtop \\\n",
    "  -y complex.nc\n",
    "cd ../''')"
   ]
  },
  {
   "cell_type": "markdown",
   "metadata": {},
   "source": [
    "# (Optional) 4. Rerun the pipeline with ANI-2x potentials"
   ]
  },
  {
   "cell_type": "markdown",
   "metadata": {},
   "source": [
    "This section reruns the MD/MMPBSA pipeline but the ligand's vdW and bonded terms are parameterized by ANI-2x."
   ]
  },
  {
   "cell_type": "code",
   "execution_count": 36,
   "metadata": {},
   "outputs": [],
   "source": [
    "from openmmml import MLPotential\n",
    "import torchani"
   ]
  },
  {
   "cell_type": "code",
   "execution_count": 28,
   "metadata": {},
   "outputs": [],
   "source": [
    "def parameterize_ligand_with_ani2x(system: System, topology: Topology, ligname: str) -> System:\n",
    "    \"\"\"\n",
    "    Replace all intra-ligand GAFF2 bonded & vdW terms with ANI-2x.\n",
    "\n",
    "    Parameters\n",
    "    ----------\n",
    "    system : System\n",
    "        The OpenMM System object\n",
    "    topology : Topology\n",
    "        The OpenMM Topology object\n",
    "    ligand_resname : str\n",
    "        The residue name of the ligand\n",
    "\n",
    "    Returns\n",
    "    -------\n",
    "    system : System\n",
    "        The modified OpenMM System object, with ANI-2x force added\n",
    "    \"\"\"\n",
    "    # Identify ligand atom indices\n",
    "    ligand_atoms = [atom.index for atom in topology.atoms()\n",
    "                    if atom.residue.name == ligname]\n",
    "    # Build an MLPotential using ANI-2x, and mix it into the rest of the system\n",
    "    potential = MLPotential('ani2x')\n",
    "    system = potential.createMixedSystem(topology, system, ligand_atoms)\n",
    "    return system"
   ]
  },
  {
   "cell_type": "code",
   "execution_count": 34,
   "metadata": {},
   "outputs": [],
   "source": [
    "# load classical\n",
    "sys, topo, pos = load_system('output/1O15_system.xml', 'output/1O15_solvated.pdb')\n",
    "# build hybrid\n",
    "hybrid_sys = parameterize_ligand_with_ani2x(sys, topo, ligname='TEP')\n",
    "# Add harmonic restraint to heavy atoms of RNA and ligand\n",
    "u = mda.Universe('output/1O15_solvated.pdb')\n",
    "heavy_atoms = u.select_atoms('(nucleic or resname TEP) and not name H*')\n",
    "atom_ids = heavy_atoms.ids-1\n",
    "hybrid_sys, restrain_idx = add_restraints(hybrid_sys, pos, atom_ids, 100)"
   ]
  },
  {
   "cell_type": "code",
   "execution_count": 32,
   "metadata": {},
   "outputs": [],
   "source": [
    "# Set up and simulation\n",
    "sim = setup_simulation(hybrid_sys, topo, pos,\n",
    "                       temperature=300, friction_coef=1.0,\n",
    "                       timestep_fs=1.0, pressure_bar=1.0)\n",
    "\n",
    "add_reporters(sim, steps=1000, traj_file='output/ani_equil.dcd', state_file='output/ani_equil.log', \n",
    "              checkpoint_file='output/ani_equil.chk', report_interval=100, checkpoint_interval=50)"
   ]
  },
  {
   "cell_type": "code",
   "execution_count": 42,
   "metadata": {},
   "outputs": [
    {
     "name": "stdout",
     "output_type": "stream",
     "text": [
      "Initial system energy -1845070.465569044 kJ/mol\n",
      "Minimizing...\n",
      "Minimized system energy -459218.4279758284 kJ/mol\n",
      "The first equilibration step: 1000 steps with restraints\n",
      "The second equilibration step: 1000 steps without restraints\n",
      "Total equilibration time: 100.4 minutes\n"
     ]
    }
   ],
   "source": [
    "# Two-stage equilibration: 1k steps restrained, 1k unrestrained\n",
    "run_equilibration(sim, restrain_idx, equil_steps=1000)"
   ]
  },
  {
   "cell_type": "code",
   "execution_count": 38,
   "metadata": {},
   "outputs": [],
   "source": [
    "# Load the system assembled by `build.py`\n",
    "sys, topo, pos = load_system('output/1O15_system.xml', 'output/1O15_solvated.pdb')\n",
    "# build hybrid\n",
    "hybrid_sys = parameterize_ligand_with_ani2x(sys, topo, ligname='TEP')"
   ]
  },
  {
   "cell_type": "code",
   "execution_count": 39,
   "metadata": {},
   "outputs": [],
   "source": [
    "# Set up and simulation\n",
    "sim = setup_simulation(hybrid_sys, topo, pos,\n",
    "                       temperature=300, friction_coef=1.0,\n",
    "                       timestep_fs=2.0, pressure_bar=1.0,\n",
    "                       checkpoint_file='output/ani_equil.chk')\n",
    "add_reporters(sim, steps=2000, traj_file='output/ani_prod.dcd', state_file='output/ani_prod.log', \n",
    "              checkpoint_file='output/ani_prod.chk', report_interval=100, checkpoint_interval=1000)"
   ]
  },
  {
   "cell_type": "code",
   "execution_count": 41,
   "metadata": {},
   "outputs": [
    {
     "name": "stdout",
     "output_type": "stream",
     "text": [
      "Running production: 2000 steps\n",
      "Total production time: 33.5 minutes\n"
     ]
    }
   ],
   "source": [
    "# Production run\n",
    "run_production(sim, production_steps=2000)"
   ]
  },
  {
   "cell_type": "code",
   "execution_count": null,
   "metadata": {},
   "outputs": [],
   "source": []
  }
 ],
 "metadata": {
  "colab": {
   "provenance": []
  },
  "kernelspec": {
   "display_name": "md_env",
   "language": "python",
   "name": "md_env"
  },
  "language_info": {
   "codemirror_mode": {
    "name": "ipython",
    "version": 3
   },
   "file_extension": ".py",
   "mimetype": "text/x-python",
   "name": "python",
   "nbconvert_exporter": "python",
   "pygments_lexer": "ipython3",
   "version": "3.9.23"
  }
 },
 "nbformat": 4,
 "nbformat_minor": 4
}
